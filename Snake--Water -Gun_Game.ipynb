{
 "cells": [
  {
   "cell_type": "code",
   "execution_count": 3,
   "id": "9a2fc633-3736-4997-bfc6-0a4c0095f8fe",
   "metadata": {},
   "outputs": [
    {
     "name": "stdout",
     "output_type": "stream",
     "text": [
      "WELCOME TO THE SNAKE -WATER -GUN GAME\n",
      "---------------------------------------------\n"
     ]
    },
    {
     "name": "stdin",
     "output_type": "stream",
     "text": [
      "Enter -0 for snake , 1 for water and 2 for gun:  2\n"
     ]
    },
    {
     "name": "stdout",
     "output_type": "stream",
     "text": [
      "Player:2\n",
      "Comp: 0\n",
      "Hurray You won!\n"
     ]
    },
    {
     "name": "stdin",
     "output_type": "stream",
     "text": [
      "Enter Yes/No:  NO\n"
     ]
    },
    {
     "name": "stdout",
     "output_type": "stream",
     "text": [
      "Well played!\n",
      "THANKS FOR USING THIS CODE  MADE BY CODE WITH ME07!!!!!\n"
     ]
    }
   ],
   "source": [
    "import random\n",
    "print(\"WELCOME TO THE SNAKE -WATER -GUN GAME\")\n",
    "while True:\n",
    "    print(\"---------------------------------------------\")\n",
    "    try:\n",
    "        player = int(input(\"Enter -0 for snake , 1 for water and 2 for gun: \"))\n",
    "        if player not in [0, 1, 2]:\n",
    "            print(\"Invalid choice! Please enter 0, 1, or 2.\")\n",
    "            continue\n",
    "    except ValueError:\n",
    "        print(\"Invalid input! Please enter a number (0, 1, or 2).\")\n",
    "        continue\n",
    "    comp= random.randint(0,2)\n",
    "    def check(player,comp):\n",
    "        if player ==comp:\n",
    "            return 0\n",
    "        if comp ==0 and player==1:\n",
    "            return -1\n",
    "        if comp==1 and player ==0  :\n",
    "            return -1\n",
    "        if comp ==2 and player ==0:\n",
    "            return -1\n",
    "        return 1\n",
    "    score=check(player,comp)\n",
    "\n",
    "    print(f\"Player:{player}\")\n",
    "    print(f\"Comp: {comp}\")\n",
    "  \n",
    "    if score ==0:\n",
    "        print(\"It's a Draw!\")\n",
    "    if score ==1:\n",
    "        print(\"Hurray You won!\")\n",
    "    if score ==-1:\n",
    "        print(\"You lose!\")\n",
    "    play_again =input(\"Enter Yes/No: \").lower()\n",
    "    if play_again !=\"yes\":\n",
    "        break;\n",
    "print(\"Well played!\")\n",
    "print(\"THANKS FOR USING THIS CODE  MADE BY CODE WITH ME07!!!!!\")"
   ]
  },
  {
   "cell_type": "code",
   "execution_count": null,
   "id": "663b974a-0589-49a0-b6f6-b8bbf127e3f7",
   "metadata": {},
   "outputs": [],
   "source": []
  }
 ],
 "metadata": {
  "kernelspec": {
   "display_name": "Python 3 (ipykernel)",
   "language": "python",
   "name": "python3"
  },
  "language_info": {
   "codemirror_mode": {
    "name": "ipython",
    "version": 3
   },
   "file_extension": ".py",
   "mimetype": "text/x-python",
   "name": "python",
   "nbconvert_exporter": "python",
   "pygments_lexer": "ipython3",
   "version": "3.12.1"
  }
 },
 "nbformat": 4,
 "nbformat_minor": 5
}
