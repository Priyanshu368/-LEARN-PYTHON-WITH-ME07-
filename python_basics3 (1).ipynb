{
 "cells": [
  {
   "cell_type": "markdown",
   "id": "f839f8f9-f53f-4b09-a43b-4c754e8ee74c",
   "metadata": {},
   "source": [
    "## how to copy a file in python --Topic --1--Module--3"
   ]
  },
  {
   "cell_type": "code",
   "execution_count": 1,
   "id": "71ea6ca9-b382-42f7-81e7-0bb1f0249b71",
   "metadata": {},
   "outputs": [],
   "source": [
    "# copyfile()=copies content of  a file\n",
    "# copy() =copyfile()+permission mode +destination can be a directory\n",
    "# copy2()=copy()+copies metadata(file's creation and modification times)"
   ]
  },
  {
   "cell_type": "code",
   "execution_count": 1,
   "id": "8ece96ef-ed6e-4470-953d-17941463f11e",
   "metadata": {},
   "outputs": [
    {
     "data": {
      "text/plain": [
       "'copy.txt'"
      ]
     },
     "execution_count": 1,
     "metadata": {},
     "output_type": "execute_result"
    }
   ],
   "source": [
    "import shutil\n",
    "shutil.copyfile('test_file.txt.txt','copy.txt')#source and destination   method -1"
   ]
  },
  {
   "cell_type": "code",
   "execution_count": 7,
   "id": "776377cc-5f14-4f2b-b156-9d76ec14069a",
   "metadata": {},
   "outputs": [
    {
     "data": {
      "text/plain": [
       "'C:\\\\Users\\\\DELL\\\\OneDrive\\\\Desktop\\\\copy.txt'"
      ]
     },
     "execution_count": 7,
     "metadata": {},
     "output_type": "execute_result"
    }
   ],
   "source": [
    "import shutil\n",
    "shutil.copyfile('test_file.txt.txt','C:\\\\Users\\\\DELL\\\\OneDrive\\\\Desktop\\\\copy.txt')  #method --2"
   ]
  },
  {
   "cell_type": "code",
   "execution_count": 8,
   "id": "81a9f1f6-10df-4c93-9541-e027a9cbd154",
   "metadata": {},
   "outputs": [
    {
     "data": {
      "text/plain": [
       "'copy_file.txt'"
      ]
     },
     "execution_count": 8,
     "metadata": {},
     "output_type": "execute_result"
    }
   ],
   "source": [
    "import shutil\n",
    "shutil.copy2('test_file.txt.txt','copy_file.txt')"
   ]
  },
  {
   "cell_type": "markdown",
   "id": "747a2525-338c-4ec9-9bca-9d608d52b4ed",
   "metadata": {},
   "source": [
    "## how to move()a file using python--Topic --2 --Module--3"
   ]
  },
  {
   "cell_type": "code",
   "execution_count": 10,
   "id": "19bc4879-e800-402f-b426-22ae80256304",
   "metadata": {},
   "outputs": [
    {
     "name": "stdout",
     "output_type": "stream",
     "text": [
      "There is already a file\n"
     ]
    }
   ],
   "source": [
    "import os\n",
    "souce=\"about_me.txt\"\n",
    "\n",
    "destination='C:\\\\Users\\\\DELL\\\\OneDrive\\\\Desktop\\\\about_me.txt'\n",
    "try:\n",
    "    if os.path.exists(destination):\n",
    "        print('There is already a file')\n",
    "    else:\n",
    "        os.replace(source,destination)\n",
    "        print(source +\"was moved\")\n",
    "except FileNotFoundError:\n",
    "    print(source+'was not found')\n",
    "\n",
    "\n"
   ]
  },
  {
   "cell_type": "code",
   "execution_count": 11,
   "id": "c215658a-51e6-429e-b3ce-4acd393aa9ec",
   "metadata": {},
   "outputs": [
    {
     "name": "stdout",
     "output_type": "stream",
     "text": [
      "There is already a file\n"
     ]
    }
   ],
   "source": [
    "source ='source_folder'\n",
    "\n",
    "destination='C:\\\\Users\\\\DELL\\\\OneDrive\\\\destination_folder'\n",
    "try:\n",
    "    if os.path.exists(destination):\n",
    "        print('There is already a file')\n",
    "    else:\n",
    "        os.replace(source,destination)\n",
    "        print(source +\"was moved\")\n",
    "except FileNotFoundError:\n",
    "    print(source+'was not found')\n",
    "\n",
    "\n",
    "# example -2 to move a folder "
   ]
  },
  {
   "cell_type": "markdown",
   "id": "68b4fb4f-197e-4185-a457-b15ea4559d8d",
   "metadata": {},
   "source": [
    "## how to delete a file using python --Topic --3 --Module -3\n"
   ]
  },
  {
   "cell_type": "code",
   "execution_count": 12,
   "id": "4da08ba6-831d-49d7-afa1-79657837182e",
   "metadata": {},
   "outputs": [
    {
     "name": "stdout",
     "output_type": "stream",
     "text": [
      "That's File was not Found\n"
     ]
    }
   ],
   "source": [
    "import os\n",
    "import shutil #used here to delete  a folder that contain a file\n",
    "path = 'about_me.txt'\n",
    "try:\n",
    "    os.remove(path) #delete a file\n",
    "    os.rmdir(path) #delete an empty folder\n",
    "    shutil.rmtree(path)#delete a directory/folder containing files\n",
    "    # print('deleted file')\n",
    "except FileNotFoundError:\n",
    "    print(\"That's File was not Found\" )\n",
    "except  PermissionError:\n",
    "    print('you dont have permission to do that')\n",
    "except OSError:\n",
    "    print(\"you can't delete that using that function\")\n",
    "else:\n",
    "    print('deleted file')\n",
    "\n",
    "\n",
    "\n",
    "\n",
    "\n"
   ]
  },
  {
   "cell_type": "markdown",
   "id": "a154296d-ca79-409e-b602-723b6c119891",
   "metadata": {},
   "source": [
    "##  modules in python  -Topic -4 --Module-3"
   ]
  },
  {
   "cell_type": "code",
   "execution_count": null,
   "id": "3a7a2646-9450-41e8-b2c0-6e6c9d18589c",
   "metadata": {},
   "outputs": [],
   "source": [
    "#module == a file containing python code. May contain function ,classes ,etc\n",
    "# used with modular programming which is to seperate a program into parts\n"
   ]
  },
  {
   "cell_type": "code",
   "execution_count": 13,
   "id": "29c59025-7f29-48b3-8cc9-f004220e40f2",
   "metadata": {},
   "outputs": [
    {
     "name": "stdout",
     "output_type": "stream",
     "text": [
      "bye! good to meet you\n"
     ]
    }
   ],
   "source": [
    "import message as msg\n",
    "# msg.hello()   methos -1\n",
    "msg.bye()"
   ]
  },
  {
   "cell_type": "code",
   "execution_count": 14,
   "id": "eb48acc5-d875-4153-92f9-312c99089957",
   "metadata": {},
   "outputs": [
    {
     "name": "stdout",
     "output_type": "stream",
     "text": [
      "bye! good to meet you\n"
     ]
    }
   ],
   "source": [
    "from message import  hello,bye\n",
    "# hello() method-2\n",
    "bye()"
   ]
  },
  {
   "cell_type": "code",
   "execution_count": null,
   "id": "665ccb22-2e6a-45db-8f18-b1ee50775677",
   "metadata": {},
   "outputs": [],
   "source": []
  },
  {
   "cell_type": "code",
   "execution_count": 15,
   "id": "3fd478a9-552c-49d5-b6a6-a57c03e496e0",
   "metadata": {},
   "outputs": [
    {
     "name": "stdout",
     "output_type": "stream",
     "text": [
      "\n",
      "Please wait a moment while I gather a list of all available modules...\n",
      "\n",
      "test_sqlite3: testing with SQLite version 3.43.1\n",
      "IPython             bleach              math                stringprep\n",
      "__future__          bs4                 matplotlib_inline   struct\n",
      "__hello__           builtins            message             subprocess\n",
      "__phello__          bz2                 mimetypes           sunau\n",
      "_abc                cProfile            mistune             symtable\n",
      "_aix_support        calendar            mmap                sys\n",
      "_argon2_cffi_bindings certifi             mmapfile            sysconfig\n",
      "_ast                cffi                mmsystem            tabnanny\n",
      "_asyncio            cgi                 modulefinder        tarfile\n",
      "_bisect             cgitb               more_itertools      telnetlib\n",
      "_blake2             charset_normalizer  msilib              tempfile\n",
      "_bz2                chunk               msvcrt              terminado\n",
      "_cffi_backend       cmath               multiprocessing     test\n",
      "_codecs             cmd                 nbclient            textwrap\n",
      "_codecs_cn          code                nbconvert           this\n",
      "_codecs_hk          codecs              nbformat            threading\n",
      "_codecs_iso2022     codeop              nest_asyncio        time\n",
      "_codecs_jp          collections         netbios             timeit\n",
      "_codecs_kr          colorama            netrc               timer\n",
      "_codecs_tw          colorsys            nntplib             tinycss2\n",
      "_collections        comm                notebook            tkinter\n",
      "_collections_abc    commctrl            notebook_shim       token\n",
      "_compat_pickle      compileall          nt                  tokenize\n",
      "_compression        concurrent          ntpath              tomli\n",
      "_contextvars        configparser        ntsecuritycon       tomllib\n",
      "_csv                contextlib          nturl2path          tornado\n",
      "_ctypes             contextvars         numbers             trace\n",
      "_ctypes_test        copy                numpy               traceback\n",
      "_datetime           copyreg             odbc                tracemalloc\n",
      "_decimal            crypt               opcode              traitlets\n",
      "_distutils_hack     csv                 openpyxl            tty\n",
      "_elementtree        ctypes              operator            turtle\n",
      "_functools          curses              optparse            turtledemo\n",
      "_hashlib            dataclasses         ordered_set         typeguard\n",
      "_heapq              datetime            os                  types\n",
      "_imp                dateutil            overrides           typing\n",
      "_io                 dbi                 packaging           typing_extensions\n",
      "_json               dbm                 pandas              tzdata\n",
      "_locale             dde                 pandocfilters       unicodedata\n",
      "_lsprof             debugpy             parso               unittest\n",
      "_lzma               decimal             pathlib             untitled5\n",
      "_markupbase         decorator           pdb                 uri_template\n",
      "_md5                defusedxml          perfmon             urllib\n",
      "_msi                difflib             pickle              urllib3\n",
      "_multibytecodec     dis                 pickletools         uu\n",
      "_multiprocessing    doctest             pip                 uuid\n",
      "_opcode             email               pipes               venv\n",
      "_operator           encodings           pkg_resources       warnings\n",
      "_osx_support        ensurepip           pkgutil             wave\n",
      "_overlapped         enum                platform            wcwidth\n",
      "_pickle             errno               platformdirs        weakref\n",
      "_py_abc             et_xmlfile          plistlib            webbrowser\n",
      "_pydatetime         executing           poplib              webcolors\n",
      "_pydecimal          fastjsonschema      posixpath           webencodings\n",
      "_pyio               faulthandler        pprint              websocket\n",
      "_pylong             filecmp             profile             wheel\n",
      "_queue              fileinput           prometheus_client   widgetsnbextension\n",
      "_random             fnmatch             prompt_toolkit      win2kras\n",
      "_sha1               fqdn                pstats              win32api\n",
      "_sha2               fractions           psutil              win32clipboard\n",
      "_sha3               ftplib              pty                 win32com\n",
      "_signal             functools           pure_eval           win32con\n",
      "_sitebuiltins       gc                  py_compile          win32console\n",
      "_socket             genericpath         pyclbr              win32cred\n",
      "_sqlite3            getopt              pycparser           win32crypt\n",
      "_sre                getpass             pydoc               win32cryptcon\n",
      "_ssl                gettext             pydoc_data          win32event\n",
      "_stat               glob                pyexpat             win32evtlog\n",
      "_statistics         graphlib            pygments            win32evtlogutil\n",
      "_string             gzip                pythoncom           win32file\n",
      "_strptime           h11                 pythonjsonlogger    win32gui\n",
      "_struct             hashlib             pytz                win32gui_struct\n",
      "_symtable           heapq               pywin               win32help\n",
      "_testbuffer         hmac                pywin32_bootstrap   win32inet\n",
      "_testcapi           html                pywin32_testutil    win32inetcon\n",
      "_testclinic         http                pywintypes          win32job\n",
      "_testconsole        httpcore            qtconsole           win32lz\n",
      "_testimportmultiple httpx               qtpy                win32net\n",
      "_testinternalcapi   idlelib             queue               win32netcon\n",
      "_testmultiphase     idna                quopri              win32pdh\n",
      "_testsinglephase    imaplib             random              win32pdhquery\n",
      "_thread             imghdr              rasutil             win32pdhutil\n",
      "_threading_local    importlib           re                  win32pipe\n",
      "_tkinter            importlib_metadata  referencing         win32print\n",
      "_tokenize           importlib_resources regcheck            win32process\n",
      "_tracemalloc        inflect             regutil             win32profile\n",
      "_typing             inspect             reprlib             win32ras\n",
      "_uuid               io                  requests            win32rcparser\n",
      "_warnings           ipaddress           rfc3339_validator   win32security\n",
      "_weakref            ipykernel           rfc3986_validator   win32service\n",
      "_weakrefset         ipykernel_launcher  rlcompleter         win32serviceutil\n",
      "_win32sysloader     ipywidgets          rpds                win32timezone\n",
      "_winapi             isapi               runpy               win32trace\n",
      "_winxptheme         isoduration         sched               win32traceutil\n",
      "_wmi                itertools           secrets             win32transaction\n",
      "_xxinterpchannels   jedi                select              win32ts\n",
      "_xxsubinterpreters  jinja2              selectors           win32ui\n",
      "_yaml               json                send2trash          win32uiole\n",
      "_zoneinfo           json5               servicemanager      win32verstamp\n",
      "abc                 jsonpointer         setuptools          win32wnet\n",
      "adodbapi            jsonschema          shelve              winerror\n",
      "afxres              jsonschema_specifications shlex               winioctlcon\n",
      "aifc                jupyter             shutil              winnt\n",
      "antigravity         jupyter_client      signal              winperf\n",
      "anyio               jupyter_console     site                winpty\n",
      "argon2              jupyter_core        six                 winreg\n",
      "argparse            jupyter_events      smtplib             winsound\n",
      "array               jupyter_lsp         sndhdr              winxpgui\n",
      "arrow               jupyter_server      sniffio             winxptheme\n",
      "ast                 jupyter_server_terminals socket              wsgiref\n",
      "asttokens           jupyterlab          socketserver        xdrlib\n",
      "async_lru           jupyterlab_pygments soupsieve           xlrd\n",
      "asyncio             jupyterlab_server   sqlite3             xml\n",
      "atexit              jupyterlab_widgets  sre_compile         xmlrpc\n",
      "attr                keyword             sre_constants       xxsubtype\n",
      "attrs               lib2to3             sre_parse           yaml\n",
      "audioop             linecache           ssl                 zipapp\n",
      "autocommand         locale              sspi                zipfile\n",
      "babel               logging             sspicon             zipimport\n",
      "backports           lzma                stack_data          zipp\n",
      "base64              mailbox             start_pythonwin     zlib\n",
      "bdb                 mailcap             stat                zmq\n",
      "binascii            markupsafe          statistics          zoneinfo\n",
      "bisect              marshal             string              \n",
      "\n",
      "Enter any module name to get more help.  Or, type \"modules spam\" to search\n",
      "for modules whose name or summary contain the string \"spam\".\n",
      "\n"
     ]
    }
   ],
   "source": [
    "help(\"modules\")"
   ]
  },
  {
   "cell_type": "markdown",
   "id": "000891fb-0dba-4a45-a85c-9a43a03541b6",
   "metadata": {},
   "source": [
    "## rock ,paper ,scissors game----Topic--5--Module--3\n"
   ]
  },
  {
   "cell_type": "code",
   "execution_count": 3,
   "id": "398de7e2-5c9a-4f8b-b418-b7a51adb4d60",
   "metadata": {},
   "outputs": [
    {
     "name": "stdin",
     "output_type": "stream",
     "text": [
      "rock ,paper or scissors PAPER\n",
      "rock ,paper or scissors paper\n",
      "rock ,paper or scissors paper\n",
      "rock ,paper or scissors paper\n",
      "rock ,paper or scissors paper\n",
      "rock ,paper or scissors paper\n",
      "rock ,paper or scissors rock\n"
     ]
    },
    {
     "name": "stdout",
     "output_type": "stream",
     "text": [
      "computer scissors\n",
      "player rock\n",
      "You win!\n"
     ]
    },
    {
     "name": "stdin",
     "output_type": "stream",
     "text": [
      "rock ,paper or scissors paper\n",
      "rock ,paper or scissors scissors\n"
     ]
    },
    {
     "name": "stdout",
     "output_type": "stream",
     "text": [
      "computer paper\n",
      "player scissors\n",
      "You win!\n"
     ]
    },
    {
     "name": "stdin",
     "output_type": "stream",
     "text": [
      "enter yes/no to play again no\n"
     ]
    },
    {
     "name": "stdout",
     "output_type": "stream",
     "text": [
      "Bye!,well played\n"
     ]
    }
   ],
   "source": [
    "import random \n",
    "while True:\n",
    "    choices =[\"rock\",\"paper\",\"scissors\"]\n",
    "    computer =random.choice(choices)\n",
    "    player =None\n",
    "    while player not in choices:\n",
    "        player =input(\"rock ,paper or scissors\").lower()\n",
    "    if player ==computer:\n",
    "        print(\"computer\",computer)\n",
    "        print(\"player\",player)\n",
    "        print(\"Tie!\")\n",
    "    if player ==\"rock\":\n",
    "        if computer ==\"paper\":\n",
    "            print(\"computer\",computer)\n",
    "            print(\"player\",player)\n",
    "            print(\"You lose!\")\n",
    "        if computer ==\"scissors\":\n",
    "            print(\"computer\",computer)\n",
    "            print(\"player\",player)\n",
    "            print(\"You win!\")\n",
    "    elif player ==\"scissors\":\n",
    "        if computer ==\"rock\":\n",
    "            print(\"computer\",computer)\n",
    "            print(\"player\",player)\n",
    "            print(\"You lose!\")\n",
    "        if computer ==\"paper\":\n",
    "            print(\"computer\",computer)\n",
    "            print(\"player\",player)\n",
    "            print(\"You win!\")\n",
    "        elif player ==\"paper\":\n",
    "            if computer ==\"scissors\":\n",
    "              print(\"computer\",computer)\n",
    "              print(\"player\",player)\n",
    "              print(\"You lose!\")\n",
    "            if computer ==\"rock\":\n",
    "                  print(\"computer\",computer)\n",
    "                  print(\"player\",player)\n",
    "                  print(\"You win!\")\n",
    "           \n",
    "        play_again =input(\"enter yes/no to play again\").lower()\n",
    "        if play_again !=\"yes\":\n",
    "            break;\n",
    "print(\"Bye!,well played\")\n",
    "\n",
    "\n",
    "    \n",
    "            \n",
    "    \n",
    "    \n",
    "        "
   ]
  },
  {
   "cell_type": "code",
   "execution_count": null,
   "id": "2e3a6bbd-d4b8-4c69-91ae-4f65a2b963bb",
   "metadata": {},
   "outputs": [],
   "source": []
  }
 ],
 "metadata": {
  "kernelspec": {
   "display_name": "Python 3 (ipykernel)",
   "language": "python",
   "name": "python3"
  },
  "language_info": {
   "codemirror_mode": {
    "name": "ipython",
    "version": 3
   },
   "file_extension": ".py",
   "mimetype": "text/x-python",
   "name": "python",
   "nbconvert_exporter": "python",
   "pygments_lexer": "ipython3",
   "version": "3.12.1"
  }
 },
 "nbformat": 4,
 "nbformat_minor": 5
}
