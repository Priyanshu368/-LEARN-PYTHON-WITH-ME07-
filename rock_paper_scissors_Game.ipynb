{
 "cells": [
  {
   "cell_type": "markdown",
   "id": "2a55270e-3062-42bf-9144-6c2d58533a87",
   "metadata": {},
   "source": [
    "# t"
   ]
  },
  {
   "cell_type": "code",
   "execution_count": null,
   "id": "2323b711-c6d8-4ef0-96ea-0e6bafd57e42",
   "metadata": {},
   "outputs": [],
   "source": [
    "import random \n",
    "while True:\n",
    "    choices =[\"rock\",\"paper\",\"scissors\"]\n",
    "    computer =random.choice(choices)\n",
    "    player =None\n",
    "    while player not in choices:\n",
    "        player =input(\"rock ,paper or scissors\").lower()\n",
    "    if player ==computer:\n",
    "        print(\"computer\",computer)\n",
    "        print(\"player\",player)\n",
    "        print(\"Tie!\")\n",
    "    if player ==\"rock\":\n",
    "        if computer ==\"paper\":\n",
    "            print(\"computer\",computer)\n",
    "            print(\"player\",player)\n",
    "            print(\"You lose!\")\n",
    "        if computer ==\"scissors\":\n",
    "            print(\"computer\",computer)\n",
    "            print(\"player\",player)\n",
    "            print(\"You win!\")\n",
    "    elif player ==\"scissors\":\n",
    "        if computer ==\"rock\":\n",
    "            print(\"computer\",computer)\n",
    "            print(\"player\",player)\n",
    "            print(\"You lose!\")\n",
    "        if computer ==\"paper\":\n",
    "            print(\"computer\",computer)\n",
    "            print(\"player\",player)\n",
    "            print(\"You win!\")\n",
    "        elif player ==\"paper\":\n",
    "            if computer ==\"scissors\":\n",
    "              print(\"computer\",computer)\n",
    "              print(\"player\",player)\n",
    "              print(\"You lose!\")\n",
    "            if computer ==\"rock\":\n",
    "                  print(\"computer\",computer)\n",
    "                  print(\"player\",player)\n",
    "                  print(\"You win!\")\n",
    "           \n",
    "        play_again =input(\"enter yes/no to play again\").lower()\n",
    "        if play_again !=\"yes\":\n",
    "            break;\n",
    "print(\"Bye!,well played\")\n",
    "\n",
    "\n",
    "    "
   ]
  }
 ],
 "metadata": {
  "kernelspec": {
   "display_name": "Python 3 (ipykernel)",
   "language": "python",
   "name": "python3"
  },
  "language_info": {
   "codemirror_mode": {
    "name": "ipython",
    "version": 3
   },
   "file_extension": ".py",
   "mimetype": "text/x-python",
   "name": "python",
   "nbconvert_exporter": "python",
   "pygments_lexer": "ipython3",
   "version": "3.12.1"
  }
 },
 "nbformat": 4,
 "nbformat_minor": 5
}
