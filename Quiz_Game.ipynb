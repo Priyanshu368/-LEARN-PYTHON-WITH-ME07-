{
 "cells": [
  {
   "cell_type": "code",
   "execution_count": null,
   "id": "ee369e47-53b7-4ed0-8bbf-270f50c5858b",
   "metadata": {},
   "outputs": [
    {
     "name": "stdout",
     "output_type": "stream",
     "text": [
      "-----------------\n",
      "Who created Python\n",
      "A.Guido van Rossum\n",
      "B.Elon Musk\n",
      "C.Bill Gtes\n",
      "D.Mark Zuckerburg\n"
     ]
    },
    {
     "name": "stdin",
     "output_type": "stream",
     "text": [
      "Enter(A,B,C,D): A\n"
     ]
    },
    {
     "name": "stdout",
     "output_type": "stream",
     "text": [
      "Correct!\n",
      "-----------------\n",
      "What year was Python created?\n",
      "A. 1989\n",
      "B.1991\n",
      "C.2001\n",
      "D.1961\n"
     ]
    },
    {
     "name": "stdin",
     "output_type": "stream",
     "text": [
      "Enter(A,B,C,D): D\n"
     ]
    },
    {
     "name": "stdout",
     "output_type": "stream",
     "text": [
      "-----------------\n",
      "Is Python used for Data Science?:\n",
      "A.Yes\n",
      "B.No\n"
     ]
    },
    {
     "name": "stdin",
     "output_type": "stream",
     "text": [
      "Enter(A,B,C,D): F\n"
     ]
    },
    {
     "name": "stdout",
     "output_type": "stream",
     "text": [
      "-----------------\n",
      "Which is not a library of Python?\n",
      "A.STL\n",
      "B.Numpy\n",
      "C.Pandas\n",
      "D.MATPLOTLIB\n"
     ]
    },
    {
     "name": "stdin",
     "output_type": "stream",
     "text": [
      "Enter(A,B,C,D): D\n"
     ]
    },
    {
     "name": "stdout",
     "output_type": "stream",
     "text": [
      "----------------------------\n",
      "Results\n",
      "-------------------------\n",
      "Answer:  A B A A \n",
      "Guesses: A D F D \n",
      "Your score is :25%\n"
     ]
    }
   ],
   "source": [
    "def new_game():\n",
    "    guesses=[]\n",
    "    correct_guesses=0\n",
    "    question_num=1\n",
    "    for key in questions:\n",
    "        print(\"-----------------\")\n",
    "        print(key)\n",
    "        for i in options[question_num-1]:\n",
    "            print(i)\n",
    "        guess =input('Enter(A,B,C,D):').upper()\n",
    "        guesses.append(guess)\n",
    "\n",
    "        correct_guesses +=check_ans(questions.get(key),guess)\n",
    "        \n",
    "        \n",
    "        \n",
    "        question_num+=1\n",
    "    display_score(correct_guesses,guesses)\n",
    "\n",
    "\n",
    "        \n",
    "#--------------------\n",
    "def check_ans(ans,guess):\n",
    "    if ans ==guess:\n",
    "        print('Correct!')\n",
    "        return 1\n",
    "    else:\n",
    "        return 0\n",
    "   \n",
    "    \n",
    "    \n",
    "#---------------------\n",
    "\n",
    "def display_score(correct_guesses,guesses):\n",
    "    print('----------------------------')\n",
    "    print(\"Results\")\n",
    "    \n",
    "    print('-------------------------')\n",
    "    print('Answer: ',end =\" \" )\n",
    "    for i in questions:\n",
    "        print(questions.get(i),end =\" \")\n",
    "    print()\n",
    "    print('Guesses:',end =\" \")\n",
    "    for i in guesses:\n",
    "        print(i,end =\" \")\n",
    "    print()\n",
    "    score =int((correct_guesses/len(questions))*100)\n",
    "\n",
    "\n",
    "\n",
    "\n",
    "    \n",
    "    print('Your score is :'+str(score)+'%')\n",
    "\n",
    "\n",
    "        \n",
    "    \n",
    "    \n",
    "#---------------------\n",
    "def play_again():\n",
    "    response =input('Do You want to play again(Yes/No)')\n",
    "    response =response.upper()\n",
    "    if response ==\"YES\":\n",
    "        return True\n",
    "    else:\n",
    "        return False\n",
    "#-----------------------------------\n",
    "\n",
    "questions ={\n",
    "    'Who created Python':'A',\n",
    "    'What year was Python created?':'B',\n",
    "    'Is Python used for Data Science?:':'A',\n",
    "    'Which is not a library of Python?':'A'\n",
    "    }\n",
    "options =[['A.Guido van Rossum','B.Elon Musk','C.Bill Gtes','D.Mark Zuckerburg'],\n",
    "             ['A. 1989','B.1991','C.2001','D.1961'],\n",
    "             ['A.Yes','B.No'],\n",
    "             ['A.STL','B.Numpy','C.Pandas','D.MATPLOTLIB']]\n",
    "\n",
    "new_game()\n",
    "\n",
    "while play_again():\n",
    "    \n",
    "    new_game()\n",
    "print('Byeee-----------')\n",
    "    \n",
    "    \n"
   ]
  },
  {
   "cell_type": "code",
   "execution_count": null,
   "id": "7d9899ff-02eb-4b06-8030-44faa993f151",
   "metadata": {},
   "outputs": [],
   "source": []
  }
 ],
 "metadata": {
  "kernelspec": {
   "display_name": "Python 3 (ipykernel)",
   "language": "python",
   "name": "python3"
  },
  "language_info": {
   "codemirror_mode": {
    "name": "ipython",
    "version": 3
   },
   "file_extension": ".py",
   "mimetype": "text/x-python",
   "name": "python",
   "nbconvert_exporter": "python",
   "pygments_lexer": "ipython3",
   "version": "3.12.1"
  }
 },
 "nbformat": 4,
 "nbformat_minor": 5
}
