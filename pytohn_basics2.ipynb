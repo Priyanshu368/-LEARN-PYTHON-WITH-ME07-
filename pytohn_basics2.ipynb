{
 "cells": [
  {
   "cell_type": "markdown",
   "id": "94249a19-d02b-4600-9281-681829603932",
   "metadata": {},
   "source": [
    "# python_syntax_part2"
   ]
  },
  {
   "cell_type": "markdown",
   "id": "4e687b2e-8b4d-4427-a396-6eb0faf25808",
   "metadata": {},
   "source": [
    "string.format() -----"
   ]
  },
  {
   "cell_type": "code",
   "execution_count": 1,
   "id": "8420a576-4a2d-4259-8676-48deacffa1eb",
   "metadata": {},
   "outputs": [],
   "source": [
    "animal =\"cow\"\n",
    "item =\"moon\""
   ]
  },
  {
   "cell_type": "code",
   "execution_count": 3,
   "id": "68a2c3e6-cc0e-473d-bc9f-660be12485a6",
   "metadata": {},
   "outputs": [
    {
     "name": "stdout",
     "output_type": "stream",
     "text": [
      "thecow jumped over the moon\n"
     ]
    }
   ],
   "source": [
    "print(\"the  {} jumped over the {}\".format(animal ,item))  #method -1 "
   ]
  },
  {
   "cell_type": "code",
   "execution_count": 4,
   "id": "6c765820-c16c-45bd-8fb6-0c68a8541bd3",
   "metadata": {},
   "outputs": [
    {
     "name": "stdout",
     "output_type": "stream",
     "text": [
      "the  john jumped over the car\n"
     ]
    }
   ],
   "source": [
    "print(\"the {} jumped over the {}\".format(\" john\",\"car\"))  # method -2  "
   ]
  },
  {
   "cell_type": "code",
   "execution_count": 5,
   "id": "0c41b9aa-bf8b-4b59-9c0f-e8bb504410e3",
   "metadata": {},
   "outputs": [
    {
     "name": "stdout",
     "output_type": "stream",
     "text": [
      "the moon jumped over the cow\n"
     ]
    }
   ],
   "source": [
    "print(\"the {1} jumped over the {0}\".format(animal ,item)) #method -3  --positional arguments"
   ]
  },
  {
   "cell_type": "code",
   "execution_count": 6,
   "id": "c8836477-45c6-4c97-acfe-4e908d1cd30e",
   "metadata": {},
   "outputs": [],
   "source": [
    "name =\"john\"\n",
    "item1 =\"chair\""
   ]
  },
  {
   "cell_type": "code",
   "execution_count": 7,
   "id": "726b7301-f58f-41a7-93a9-f5a574a7239d",
   "metadata": {},
   "outputs": [
    {
     "name": "stdout",
     "output_type": "stream",
     "text": [
      " the john jumped  from the chair\n"
     ]
    }
   ],
   "source": [
    "print(f\" the {name} jumped  from the {item1}\")  #method --4    ---- keyword arguments"
   ]
  },
  {
   "cell_type": "code",
   "execution_count": 8,
   "id": "c8be3f4b-734d-429f-aefa-e56ad6fb6333",
   "metadata": {},
   "outputs": [],
   "source": [
    "text =\"the {} jumped over the {} \""
   ]
  },
  {
   "cell_type": "code",
   "execution_count": 9,
   "id": "7de52a4e-33f6-4cb0-b6b2-e55bf5c87550",
   "metadata": {},
   "outputs": [
    {
     "name": "stdout",
     "output_type": "stream",
     "text": [
      "the john jumped over the chair \n"
     ]
    }
   ],
   "source": [
    "print(text.format(name,item1))  #method--5"
   ]
  },
  {
   "cell_type": "code",
   "execution_count": 10,
   "id": "c67c0124-9adf-449d-9230-0c8ed4b142ea",
   "metadata": {},
   "outputs": [],
   "source": [
    "user_name =\"ram\""
   ]
  },
  {
   "cell_type": "code",
   "execution_count": 11,
   "id": "68a165c1-513c-4465-8b5a-05c789f763f2",
   "metadata": {},
   "outputs": [
    {
     "name": "stdout",
     "output_type": "stream",
     "text": [
      "Hello,my name is ram       \n"
     ]
    }
   ],
   "source": [
    "print(\"Hello,my name is {:10}\".format(user_name))   #adding padding"
   ]
  },
  {
   "cell_type": "code",
   "execution_count": 12,
   "id": "6288ca46-1abc-44d4-a426-6e9d68415df8",
   "metadata": {},
   "outputs": [
    {
     "name": "stdout",
     "output_type": "stream",
     "text": [
      "Hello,my name is ram       \n"
     ]
    }
   ],
   "source": [
    "print(\"Hello,my name is {:<10}\".format(user_name))   #adding padding  #left allign"
   ]
  },
  {
   "cell_type": "code",
   "execution_count": 15,
   "id": "892c987c-d180-414b-b7eb-c6260446c186",
   "metadata": {},
   "outputs": [
    {
     "name": "stdout",
     "output_type": "stream",
     "text": [
      "Hello,my name is        ram\n"
     ]
    }
   ],
   "source": [
    "print(f\"Hello,my name is {user_name:>10}\")  #adding padding # right align #create space along right side"
   ]
  },
  {
   "cell_type": "code",
   "execution_count": 16,
   "id": "06e76f2d-2a7c-44f9-bacd-e83c84d8c4ef",
   "metadata": {},
   "outputs": [
    {
     "name": "stdout",
     "output_type": "stream",
     "text": [
      "Hello,my name is    ram    \n"
     ]
    }
   ],
   "source": [
    "print(f\"Hello,my name is {user_name:^10}\")   #adding padding #in center"
   ]
  },
  {
   "cell_type": "code",
   "execution_count": 17,
   "id": "cb1af892-fbc4-4dfa-a38c-136b47d4d3fc",
   "metadata": {},
   "outputs": [],
   "source": [
    "number =3.14159"
   ]
  },
  {
   "cell_type": "code",
   "execution_count": 18,
   "id": "8759e8de-3958-4453-bcac-81a1ddd9e9cd",
   "metadata": {},
   "outputs": [
    {
     "name": "stdout",
     "output_type": "stream",
     "text": [
      "the number pi is3.14\n"
     ]
    }
   ],
   "source": [
    "print(f\"the number pi is{number:.2f}\")  # 3.14  till 2 floating point number"
   ]
  },
  {
   "cell_type": "code",
   "execution_count": 30,
   "id": "af5171a7-d306-4c9c-9cd3-95d5a9b8d94e",
   "metadata": {},
   "outputs": [],
   "source": [
    "num =1000"
   ]
  },
  {
   "cell_type": "code",
   "execution_count": 31,
   "id": "0ccda6c6-dfb0-4405-b920-783653395fd9",
   "metadata": {},
   "outputs": [
    {
     "name": "stdout",
     "output_type": "stream",
     "text": [
      "the number is1,000\n"
     ]
    }
   ],
   "source": [
    "print(f\"the number is{num:,}\") #make a comma after 3 places"
   ]
  },
  {
   "cell_type": "code",
   "execution_count": 32,
   "id": "1ee15013-71b8-46fd-ac2e-b3a6eda712ff",
   "metadata": {},
   "outputs": [
    {
     "name": "stdout",
     "output_type": "stream",
     "text": [
      "the number is1111101000\n"
     ]
    }
   ],
   "source": [
    "print(f\"the number is{num:b}\") #return binary"
   ]
  },
  {
   "cell_type": "code",
   "execution_count": 33,
   "id": "2398c7da-2571-4b17-b48d-7a22df3666cf",
   "metadata": {},
   "outputs": [
    {
     "name": "stdout",
     "output_type": "stream",
     "text": [
      "the number is1750\n"
     ]
    }
   ],
   "source": [
    "print(f\"the number is{num:o}\") #return octal"
   ]
  },
  {
   "cell_type": "code",
   "execution_count": 34,
   "id": "42738d58-a925-4935-aa22-6c12ba9a9ce2",
   "metadata": {},
   "outputs": [
    {
     "name": "stdout",
     "output_type": "stream",
     "text": [
      "the number is3e8\n"
     ]
    }
   ],
   "source": [
    "print(f\"the number is{num:x}\") #return hexadecimal #in lowecasee --3e8"
   ]
  },
  {
   "cell_type": "code",
   "execution_count": 35,
   "id": "1903c3db-0140-4fb1-9099-36d68a3796df",
   "metadata": {},
   "outputs": [
    {
     "name": "stdout",
     "output_type": "stream",
     "text": [
      "the number is3E8\n"
     ]
    }
   ],
   "source": [
    "print(f\"the number is{num:X}\") #return hexadecimal in all uppercase --3E8"
   ]
  },
  {
   "cell_type": "code",
   "execution_count": 36,
   "id": "9bf40a41-1085-4a2e-be71-817d57508706",
   "metadata": {},
   "outputs": [
    {
     "name": "stdout",
     "output_type": "stream",
     "text": [
      "the number is1.000000E+03\n"
     ]
    }
   ],
   "source": [
    "print(f\"the number is{num:E}\") #RETURN IN SCIENTIFIC NOTATION  #upercase E"
   ]
  },
  {
   "cell_type": "code",
   "execution_count": 37,
   "id": "b54555c9-d049-43db-9d21-537d007239b0",
   "metadata": {},
   "outputs": [
    {
     "name": "stdout",
     "output_type": "stream",
     "text": [
      "the number is1.000000e+03\n"
     ]
    }
   ],
   "source": [
    "print(f\"the number is{num:e}\") #RETURN IN SCIENTIFIC NOTATION --lowecase  e"
   ]
  },
  {
   "cell_type": "markdown",
   "id": "9cbcdacb-dde4-4d72-aa4f-6a71aaad2c9a",
   "metadata": {},
   "source": [
    "#  concept of random number ---topic --2"
   ]
  },
  {
   "cell_type": "markdown",
   "id": "21b181ad-fd5f-4dd2-a9cc-d0db020bb496",
   "metadata": {},
   "source": [
    "#howto generate random number ----"
   ]
  },
  {
   "cell_type": "code",
   "execution_count": 38,
   "id": "6a38806f-530b-4b0b-9983-302988dc825e",
   "metadata": {},
   "outputs": [],
   "source": [
    "import random\n"
   ]
  },
  {
   "cell_type": "code",
   "execution_count": 50,
   "id": "2dd8ba3b-cca1-492a-85d9-2bb612d44250",
   "metadata": {},
   "outputs": [],
   "source": [
    "x =random.randint(1,6)  #to generate random number from 1 to 6 # == return only integer only\n",
    "y =random.random()  #to generate random floating point number --doesn't take any arguments"
   ]
  },
  {
   "cell_type": "code",
   "execution_count": 46,
   "id": "5df66341-42b6-4d60-883d-fbf6d93ec4c8",
   "metadata": {},
   "outputs": [
    {
     "name": "stdout",
     "output_type": "stream",
     "text": [
      "3\n"
     ]
    }
   ],
   "source": [
    "print(x)"
   ]
  },
  {
   "cell_type": "code",
   "execution_count": 52,
   "id": "005afaa3-d0d0-49eb-80b9-24a956cedbf1",
   "metadata": {},
   "outputs": [
    {
     "data": {
      "text/plain": [
       "0.3822204621795957"
      ]
     },
     "execution_count": 52,
     "metadata": {},
     "output_type": "execute_result"
    }
   ],
   "source": [
    "y\n"
   ]
  },
  {
   "cell_type": "markdown",
   "id": "3dc3bd79-9ded-41ea-8e7f-36e44d8f4f65",
   "metadata": {},
   "source": [
    "game ---rock paper scissor "
   ]
  },
  {
   "cell_type": "code",
   "execution_count": 54,
   "id": "06049c07-6322-49b7-badd-dcdafb1c149d",
   "metadata": {},
   "outputs": [],
   "source": [
    "my_list =['rock','scissors', 'paper']"
   ]
  },
  {
   "cell_type": "code",
   "execution_count": 70,
   "id": "84712557-a6b2-42f2-aa1b-aaacb050f2cf",
   "metadata": {},
   "outputs": [
    {
     "data": {
      "text/plain": [
       "'scissors'"
      ]
     },
     "execution_count": 70,
     "metadata": {},
     "output_type": "execute_result"
    }
   ],
   "source": [
    "random.choice(my_list)  #use of random.choice(list)"
   ]
  },
  {
   "cell_type": "code",
   "execution_count": 66,
   "id": "a8d5e8a4-fb6f-400c-8056-4860d74c8aab",
   "metadata": {},
   "outputs": [],
   "source": [
    "## shuffling of cards -by  random module --random.shuffle(variable_name)"
   ]
  },
  {
   "cell_type": "code",
   "execution_count": 71,
   "id": "17a5aed1-1f75-4d1f-a7a4-a10c49d5ae35",
   "metadata": {},
   "outputs": [],
   "source": [
    "cards =[1,2,3,4,5,6,7,8,9,'J','K','Q','A']\n"
   ]
  },
  {
   "cell_type": "code",
   "execution_count": 73,
   "id": "9d5a2c44-fe67-407a-b04b-4af6304da003",
   "metadata": {},
   "outputs": [],
   "source": [
    "random.shuffle(cards)   "
   ]
  },
  {
   "cell_type": "code",
   "execution_count": 78,
   "id": "33023dda-5c55-4bb8-af6f-4fb05d3186bc",
   "metadata": {},
   "outputs": [
    {
     "data": {
      "text/plain": [
       "[8, 7, 'J', 'K', 'A', 6, 5, 9, 3, 'Q', 1, 4, 2]"
      ]
     },
     "execution_count": 78,
     "metadata": {},
     "output_type": "execute_result"
    }
   ],
   "source": [
    "cards\n",
    "\n"
   ]
  },
  {
   "cell_type": "markdown",
   "id": "26c3cc98-4649-4d00-9912-90e87273c6e0",
   "metadata": {},
   "source": [
    "#exceptional hadling in pytohn  -topic -3"
   ]
  },
  {
   "cell_type": "code",
   "execution_count": 79,
   "id": "c03eff0a-0ada-407e-9389-5423d1a7ec10",
   "metadata": {},
   "outputs": [],
   "source": [
    "# exception = events detected  during execution that interupt the flow of program "
   ]
  },
  {
   "cell_type": "code",
   "execution_count": 85,
   "id": "4a1ff138-469d-4301-8d97-1547d3e065a6",
   "metadata": {},
   "outputs": [
    {
     "name": "stdin",
     "output_type": "stream",
     "text": [
      "enter a number to divide:  5\n",
      "enter a number to divide by:  0\n"
     ]
    },
    {
     "name": "stdout",
     "output_type": "stream",
     "text": [
      "you can't divide by zero ,idiot!\n"
     ]
    }
   ],
   "source": [
    "try:\n",
    "    numerator =int(input(\"enter a number to divide: \"))\n",
    "    denominator =int(input(\"enter a number to divide by: \" ))\n",
    "    result =numerator/denominator\n",
    "    print(result)\n",
    "\n",
    "except ZeroDivisionError:\n",
    "    print(\"you can't divide by zero ,idiot!\")\n",
    "except ValueError:\n",
    "    print(\"enter only number plz\")\n",
    "\n",
    "\n",
    "except  Exception :\n",
    "    print(\"something went wrong:(\")"
   ]
  },
  {
   "cell_type": "code",
   "execution_count": 91,
   "id": "1a95c67e-8569-4cd7-a457-31113dab854a",
   "metadata": {},
   "outputs": [
    {
     "name": "stdin",
     "output_type": "stream",
     "text": [
      "enter a number to divide:  4\n",
      "enter a number to divide by:  5\n"
     ]
    },
    {
     "name": "stdout",
     "output_type": "stream",
     "text": [
      "0.8\n",
      "this will always execute\n"
     ]
    }
   ],
   "source": [
    "try:\n",
    "    numerator =int(input(\"enter a number to divide: \"))\n",
    "    denominator =int(input(\"enter a number to divide by: \" ))\n",
    "    result =numerator/denominator\n",
    "    #print(result)\n",
    "\n",
    "except ZeroDivisionError as e:\n",
    "    prfint(e)\n",
    "    print(\"you can't divide by zero ,idiot!\")\n",
    "except ValueError as e :\n",
    "    print(e)\n",
    "    print(\"enter only number plz\")\n",
    "\n",
    "\n",
    "except  Exception as e :\n",
    "    print(e)\n",
    "    print(\"something went wrong:(\")\n",
    "else:\n",
    "    print(result)\n",
    "\n",
    "\n",
    "finally: #code under the finally clause block will always execute whether there is an exception or not\n",
    "    print(\"this will always execute\") "
   ]
  },
  {
   "cell_type": "code",
   "execution_count": null,
   "id": "50d8173a-ffc1-4000-974e-74354449b6f6",
   "metadata": {},
   "outputs": [],
   "source": []
  },
  {
   "cell_type": "markdown",
   "id": "85b9e0ae-b8e7-4db1-9719-6c04b857cbb3",
   "metadata": {},
   "source": [
    "#file detection in python---- topic -- 4"
   ]
  },
  {
   "cell_type": "code",
   "execution_count": 12,
   "id": "43c07dd8-dade-459f-9bd2-dd05e1248f82",
   "metadata": {},
   "outputs": [
    {
     "name": "stdout",
     "output_type": "stream",
     "text": [
      "That's location exist\n",
      "That's a file\n"
     ]
    }
   ],
   "source": [
    "import os\n",
    "path =\"C:\\\\Users\\\\DELL\\\\OneDrive\\\\Desktop\\\\test_file.txt.txt\"\n",
    "\n",
    "if os.path.exists(path):\n",
    "    print(\"That's location exist\")\n",
    "    if os.path.isfile(path):\n",
    "        print(\"That's a file\")\n",
    "    elif os.path.isdir(path):\n",
    "        print(\"That's a folder\")\n",
    "    \n",
    "else:\n",
    "    print(\"That's location doesn't exist\")"
   ]
  },
  {
   "cell_type": "markdown",
   "id": "9e34f212-02a8-4cbc-a157-6988b67e9c62",
   "metadata": {},
   "source": [
    "#how to read a file in python-----topic--5\n",
    "\n"
   ]
  },
  {
   "cell_type": "code",
   "execution_count": 29,
   "id": "e9798cbd-6836-408a-8708-2d9ceae0cfcb",
   "metadata": {},
   "outputs": [
    {
     "name": "stdout",
     "output_type": "stream",
     "text": [
      "welcome to my profile\n"
     ]
    }
   ],
   "source": [
    "try: # for exceptional handling\n",
    "      with open('test_file.txt.txt') as file:\n",
    "          print(file.read())\n",
    "          \n",
    "    #we used try : to overcome the error so that our program may run smoothly\n",
    "   \n",
    "except Exception as e:\n",
    "   print(e)\n",
    "   print(\" That's File not found:(\")"
   ]
  },
  {
   "cell_type": "markdown",
   "id": "31cb4e2a-8ecb-4f90-b763-c097250e58c3",
   "metadata": {},
   "source": [
    "#HOW TO WRITE A FILE IN PYTHON ----- TOPIC --6\n"
   ]
  },
  {
   "cell_type": "code",
   "execution_count": 37,
   "id": "4c58b6e0-5a64-40fc-9ad7-1e16df1c81a2",
   "metadata": {},
   "outputs": [],
   "source": [
    "text =\"my name is\\n PRIYANSHU YADAV\"\n",
    "with open('untitled.txt','w') as file:  #untitled.txt is name which is given bu user \n",
    "    file.write(text)"
   ]
  },
  {
   "cell_type": "code",
   "execution_count": null,
   "id": "f06b00c8-5b14-4999-8273-e7a4c2e611e0",
   "metadata": {},
   "outputs": [],
   "source": []
  },
  {
   "cell_type": "markdown",
   "id": "012cc949-1873-4af0-a9ec-2708dee05711",
   "metadata": {},
   "source": [
    "## In the next module we  will learn about  much more about such as  how to \n",
    "## 1.how to copy ,move and delete a file"
   ]
  },
  {
   "cell_type": "code",
   "execution_count": null,
   "id": "93037b7f-0328-4774-81f1-73e7fe1bb94a",
   "metadata": {},
   "outputs": [],
   "source": []
  }
 ],
 "metadata": {
  "kernelspec": {
   "display_name": "Python 3 (ipykernel)",
   "language": "python",
   "name": "python3"
  },
  "language_info": {
   "codemirror_mode": {
    "name": "ipython",
    "version": 3
   },
   "file_extension": ".py",
   "mimetype": "text/x-python",
   "name": "python",
   "nbconvert_exporter": "python",
   "pygments_lexer": "ipython3",
   "version": "3.12.1"
  }
 },
 "nbformat": 4,
 "nbformat_minor": 5
}
